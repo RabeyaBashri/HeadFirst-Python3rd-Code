{
 "cells": [
  {
   "cell_type": "code",
   "execution_count": null,
   "id": "757700ba",
   "metadata": {},
   "outputs": [],
   "source": [
    "import swimclub\n",
    "import os\n",
    "import pprint\n",
    "import webbrowser\n",
    "\n",
    "swimFiles = os.listdir(swimclub.FOLDER)\n",
    "\n",
    "if len(swimFiles) > 0 :\n",
    "\n",
    "    #CREATING DICTIONARY [KEY - SWIMMER NAME, VALUE - FILENAME]\n",
    "    swimFiles.remove(\".DS_Store\")\n",
    "\n",
    "    #Introducing Dictionary Data Structure\n",
    "    dictSwimmerAndFile = {}\n",
    "    \n",
    "    for fileName in swimFiles:\n",
    "\n",
    "        name = fileName.split(\"-\")[0]\n",
    "\n",
    "        if name not in dictSwimmerAndFile:\n",
    "\n",
    "            dictSwimmerAndFile[name]=[] #initializing dictionary value as list\n",
    "            \"\"\"print(\"-------------------------\",name,\"-------------------------------------\")\n",
    "            print(\"Adding Swimmer Name Key, if not already exists in Dictionary and initializing value as empty list\", name, dictSwimmerAndFile)\n",
    "            print(\"--------------------------------------------------------------\")\"\"\"\n",
    "\n",
    "        #swimFiles is sorted list alphabetically,  same name will not add repeatedly in dictionary-key  during iteration with checking if already exists, meanwhile filenames will be added in dictionary value list for corresponding key swimmer's name \n",
    "        dictSwimmerAndFile[name].append(fileName)\n",
    "        #print(\"After creating Swimmer Name Key : \",name,\" with value list containing corresponding file name(s))\", name, dictSwimmerAndFile)\n",
    "    \n",
    "    #CREATING CHART FOR INDIVIDUAL SWIMMER FROM DICTIONARY\n",
    "    for keySwimmername,valueFileNameList in dictSwimmerAndFile.items() :\n",
    "        for valueFileName in valueFileNameList:\n",
    "            #pprint.pprint(\"Generating Bar Chart for : \" + keySwimmername + \" >>>>>> File Name : \" + valueFileName)\n",
    "            webbrowser.open(\"file://\" + os.path.realpath(swimclub.produceBarChart(valueFileName)))\n",
    "else : \n",
    "    print (\"No File Found\")\n",
    "\n",
    "\n"
   ]
  }
 ],
 "metadata": {
  "kernelspec": {
   "display_name": "Python 3",
   "language": "python",
   "name": "python3"
  },
  "language_info": {
   "codemirror_mode": {
    "name": "ipython",
    "version": 3
   },
   "file_extension": ".py",
   "mimetype": "text/x-python",
   "name": "python",
   "nbconvert_exporter": "python",
   "pygments_lexer": "ipython3",
   "version": "3.13.3"
  }
 },
 "nbformat": 4,
 "nbformat_minor": 5
}
