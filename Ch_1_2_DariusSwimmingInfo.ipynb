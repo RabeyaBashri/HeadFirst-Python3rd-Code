{
 "cells": [
  {
   "cell_type": "code",
   "execution_count": 8,
   "id": "7a11d677",
   "metadata": {},
   "outputs": [
    {
     "name": "stdout",
     "output_type": "stream",
     "text": [
      "Swimmer -  Darius\n",
      "Age group -  13\n",
      "Distance -  100m\n",
      "Stroke -  Fly\n",
      "Times -  ['1:27.95', '1:21.07', '1:30.96', '1:23.22', '1:27.95', '1:28.30']\n",
      "Average -  1:26.58\n"
     ]
    }
   ],
   "source": [
    "swimmerFileName = \"Darius-13-100m-Fly.txt\"\n",
    "#FOLDER variable is containing constant value, it's no rule but convention\n",
    "FOLDER = \"swimdata/\"\n",
    "\n",
    "#remove .txt by removesuffix, return list by splitting string value\n",
    "#unpacking  or multiple assignmenet to the swimmer's info variables \"swimmer, ageGroup, distance, stroke\"\n",
    "swimmer, ageGroup, distance, stroke = swimmerFileName.removesuffix(\".txt\").split(\"-\")\n",
    "\n",
    "#get swimmers time records in list \"times\"\n",
    "with open(FOLDER + swimmerFileName) as file :\n",
    "    lines = file.readlines()\n",
    "    #intentionally takes only line 1, remove \\n by strip() and split times using comma to return list\n",
    "    times = lines[0].strip().split(\",\")\n",
    "\n",
    "#process time records to calculate average\n",
    "\n",
    "#step - 1 converts all the time records into hundredths and stores in a list\n",
    "convertTimeRecords = []\n",
    "\n",
    "for time in times :\n",
    "    minute, rest = time.split(\":\")\n",
    "    seconds, hundredths = rest.split(\".\")\n",
    "    convertedTime = (int(minute) * 60 * 100 ) + (int(seconds) * 100) + int(hundredths)\n",
    "    convertTimeRecords.append(convertedTime)\n",
    "\n",
    "#step -2 calculate average\n",
    "\n",
    "import statistics\n",
    "\n",
    "#get numerical hundredth avarage\n",
    "average = statistics.mean(convertTimeRecords)\n",
    "\n",
    "#but we need to show average in time format, so convert numerical to time format average\n",
    "convertedAverageTime = round(average/100,2)\n",
    "strConvertedAverageTime = str(convertedAverageTime)\n",
    "minute_second, hundredths = strConvertedAverageTime.split(\".\")\n",
    "minute_second =  int(minute_second)\n",
    "minutes = minute_second // 60 #floor division //\n",
    "seconds = minute_second - minutes * 60\n",
    "\n",
    "convertedAverageTime = str(minutes) + \":\" + str(seconds) + \".\" + str(hundredths)\n",
    "\n",
    "print(\"Swimmer - \", swimmer)\n",
    "print(\"Age group - \", ageGroup)\n",
    "print(\"Distance - \", distance)\n",
    "print(\"Stroke - \", stroke)\n",
    "print(\"Times - \", times)\n",
    "print(\"Average - \",convertedAverageTime)\n",
    "\n",
    "\n",
    "\n",
    "\n",
    "                    \n",
    "\n",
    "\n",
    "\n"
   ]
  }
 ],
 "metadata": {
  "kernelspec": {
   "display_name": "Python 3",
   "language": "python",
   "name": "python3"
  },
  "language_info": {
   "codemirror_mode": {
    "name": "ipython",
    "version": 3
   },
   "file_extension": ".py",
   "mimetype": "text/x-python",
   "name": "python",
   "nbconvert_exporter": "python",
   "pygments_lexer": "ipython3",
   "version": "3.13.3"
  }
 },
 "nbformat": 4,
 "nbformat_minor": 5
}
